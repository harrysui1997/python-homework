{
 "cells": [
  {
   "cell_type": "code",
   "execution_count": 9,
   "id": "bd704b8d-f76d-4a1e-b0ab-b50733010f27",
   "metadata": {},
   "outputs": [],
   "source": [
    "# Import all the functions required for the assignment\n",
    "import pandas as pd\n",
    "from pathlib import Path\n",
    "%matplotlib inline"
   ]
  },
  {
   "cell_type": "code",
   "execution_count": 13,
   "id": "df12d1d0-d1a2-4bdc-82be-77bd064e72cc",
   "metadata": {},
   "outputs": [
    {
     "data": {
      "text/html": [
       "<div>\n",
       "<style scoped>\n",
       "    .dataframe tbody tr th:only-of-type {\n",
       "        vertical-align: middle;\n",
       "    }\n",
       "\n",
       "    .dataframe tbody tr th {\n",
       "        vertical-align: top;\n",
       "    }\n",
       "\n",
       "    .dataframe thead th {\n",
       "        text-align: right;\n",
       "    }\n",
       "</style>\n",
       "<table border=\"1\" class=\"dataframe\">\n",
       "  <thead>\n",
       "    <tr style=\"text-align: right;\">\n",
       "      <th></th>\n",
       "      <th>Date</th>\n",
       "      <th>Profit/Losses</th>\n",
       "    </tr>\n",
       "  </thead>\n",
       "  <tbody>\n",
       "    <tr>\n",
       "      <th>0</th>\n",
       "      <td>Jan-2010</td>\n",
       "      <td>867884</td>\n",
       "    </tr>\n",
       "    <tr>\n",
       "      <th>1</th>\n",
       "      <td>Feb-2010</td>\n",
       "      <td>984655</td>\n",
       "    </tr>\n",
       "    <tr>\n",
       "      <th>2</th>\n",
       "      <td>Mar-2010</td>\n",
       "      <td>322013</td>\n",
       "    </tr>\n",
       "    <tr>\n",
       "      <th>3</th>\n",
       "      <td>Apr-2010</td>\n",
       "      <td>-69417</td>\n",
       "    </tr>\n",
       "    <tr>\n",
       "      <th>4</th>\n",
       "      <td>May-2010</td>\n",
       "      <td>310503</td>\n",
       "    </tr>\n",
       "  </tbody>\n",
       "</table>\n",
       "</div>"
      ],
      "text/plain": [
       "       Date  Profit/Losses\n",
       "0  Jan-2010         867884\n",
       "1  Feb-2010         984655\n",
       "2  Mar-2010         322013\n",
       "3  Apr-2010         -69417\n",
       "4  May-2010         310503"
      ]
     },
     "execution_count": 13,
     "metadata": {},
     "output_type": "execute_result"
    }
   ],
   "source": [
    "#Read the CSV into a Dataframe using Pandas\n",
    "budget_data = pd.read_csv('budget_data.csv')\n",
    "budget_data.head()"
   ]
  },
  {
   "cell_type": "code",
   "execution_count": 89,
   "id": "23122284-a1db-4894-ab63-fc81666da636",
   "metadata": {},
   "outputs": [
    {
     "data": {
      "text/plain": [
       "867884"
      ]
     },
     "execution_count": 89,
     "metadata": {},
     "output_type": "execute_result"
    }
   ],
   "source": [
    "budget_data.iloc[0].loc['Profit/Losses']"
   ]
  },
  {
   "cell_type": "code",
   "execution_count": 27,
   "id": "78f5be68-4cc9-43bd-a649-e59433cbe610",
   "metadata": {},
   "outputs": [
    {
     "data": {
      "text/plain": [
       "86"
      ]
     },
     "execution_count": 27,
     "metadata": {},
     "output_type": "execute_result"
    }
   ],
   "source": [
    "# The total number of months included in the dataset\n",
    "total_month_number = budget_data[\"Date\"].value_counts().sum()\n",
    "total_month_number"
   ]
  },
  {
   "cell_type": "code",
   "execution_count": 29,
   "id": "30daeccf-b670-42c9-9d18-ec6587ae721a",
   "metadata": {},
   "outputs": [
    {
     "data": {
      "text/plain": [
       "38382578"
      ]
     },
     "execution_count": 29,
     "metadata": {},
     "output_type": "execute_result"
    }
   ],
   "source": [
    "# The total amount of Profit/Losses over the entire period\n",
    "total_profit_loss = budget_data[\"Profit/Losses\"].sum()\n",
    "total_profit_loss"
   ]
  },
  {
   "cell_type": "code",
   "execution_count": 106,
   "id": "911174ab-e7c5-479c-b999-a0a120ba262d",
   "metadata": {},
   "outputs": [
    {
     "data": {
      "text/plain": [
       "446309.05"
      ]
     },
     "execution_count": 106,
     "metadata": {},
     "output_type": "execute_result"
    }
   ],
   "source": [
    "#The average of the changes in Profit/Losses over the entire period\n",
    "average_profit = round(budget_data[\"Profit/Losses\"].mean(),2)\n",
    "average_profit"
   ]
  },
  {
   "cell_type": "code",
   "execution_count": 108,
   "id": "0e71cdd2-cc39-4750-aefb-9886643b46c9",
   "metadata": {
    "tags": []
   },
   "outputs": [
    {
     "data": {
      "text/plain": [
       "Date             Feb-2012\n",
       "Profit/Losses     1170593\n",
       "Name: 25, dtype: object"
      ]
     },
     "execution_count": 108,
     "metadata": {},
     "output_type": "execute_result"
    }
   ],
   "source": [
    "# The greatest increase in profits (dataa and amount) over the entire period\n",
    "#Use sort_values to put maximum profit day at top, and use iloc[0] to look at the first row of data frame.\n",
    "max_profit = budget_data.sort_values(\"Profit/Losses\", ascending = False).iloc[0]\n",
    "max_profit"
   ]
  },
  {
   "cell_type": "code",
   "execution_count": 76,
   "id": "7676cb40-a6a5-487b-a302-4fb0ac5f1b70",
   "metadata": {},
   "outputs": [
    {
     "data": {
      "text/plain": [
       "Date             Sep-2013\n",
       "Profit/Losses    -1196225\n",
       "Name: 44, dtype: object"
      ]
     },
     "execution_count": 76,
     "metadata": {},
     "output_type": "execute_result"
    }
   ],
   "source": [
    "#The greatest decreases in losses (data and amount) over the entire period\n",
    "max_loss = budget_data.sort_values(\"Profit/Losses\").iloc[0]\n",
    "max_loss"
   ]
  },
  {
   "cell_type": "code",
   "execution_count": 120,
   "id": "ed097c6b-8c3f-46d5-85d7-d0993ca9969d",
   "metadata": {},
   "outputs": [
    {
     "name": "stdout",
     "output_type": "stream",
     "text": [
      "Total Month:  86 \n",
      "Total: $ 38382578 \n",
      "Average Change: $ 446309.05 \n",
      "Greatest Increase in Profits:  Feb-2012 ($ 1170593 ) \n",
      "Greatest Decrease in Profits:  Sep-2013 ($ -1196225 )\n"
     ]
    }
   ],
   "source": [
    "# Print the final Financial Analysis. \n",
    "# Use .loc[Date] and .loc[Profit/Losses] to select specific element from max_profit and max_losses\n",
    "Financial_Analysis = print(\"Total Month: \",total_month_number,\"\\nTotal: $\",total_profit_loss,\"\\nAverage Change: $\", average_profit,\n",
    "                           \"\\nGreatest Increase in Profits: \",max_profit.loc[\"Date\"],\"($\",max_profit.loc[\"Profit/Losses\"],\")\",\n",
    "                           \"\\nGreatest Decrease in Profits: \",max_loss.loc[\"Date\"],\"($\",max_loss.loc[\"Profit/Losses\"],\")\")"
   ]
  },
  {
   "cell_type": "code",
   "execution_count": 132,
   "id": "41b79dc7-d054-4fc1-b039-7706c065f324",
   "metadata": {},
   "outputs": [],
   "source": [
    "#Export Report as txt file\n",
    "with open(\"report_analysis.txt\",\"w\") as out_file:\n",
    "    out_file.write(\"Total Month :86 \\n\")\n",
    "    out_file.write(\"Total: $ 38382578 \\n\")\n",
    "    out_file.write(\"Average Change: $ 446309.05 \\n\")\n",
    "    out_file.write(\"Greatest Increase in Profits:  Feb-2012 ($ 1170593) \\n\")\n",
    "    out_file.write(\"Greatest Decrease in Profits:  Sep-2013 ($ -1196225) \\n\")\n"
   ]
  },
  {
   "cell_type": "code",
   "execution_count": 133,
   "id": "af1db85f-dc29-44a7-82ba-c03bc8ebf2a9",
   "metadata": {},
   "outputs": [
    {
     "name": "stdout",
     "output_type": "stream",
     "text": [
      "Total Month :86 \n",
      "Total: $ 38382578 \n",
      "Average Change: $ 446309.05 \n",
      "Greatest Increase in Profits:  Feb-2012 ($ 1170593) \n",
      "Greatest Decrease in Profits:  Sep-2013 ($ -1196225) \n"
     ]
    }
   ],
   "source": [
    "!cat report_analysis.txt"
   ]
  },
  {
   "cell_type": "code",
   "execution_count": null,
   "id": "4a345d40-e7de-4995-b1b8-6d7413feeb81",
   "metadata": {},
   "outputs": [],
   "source": []
  }
 ],
 "metadata": {
  "kernelspec": {
   "display_name": "Python 3",
   "language": "python",
   "name": "python3"
  },
  "language_info": {
   "codemirror_mode": {
    "name": "ipython",
    "version": 3
   },
   "file_extension": ".py",
   "mimetype": "text/x-python",
   "name": "python",
   "nbconvert_exporter": "python",
   "pygments_lexer": "ipython3",
   "version": "3.8.8"
  }
 },
 "nbformat": 4,
 "nbformat_minor": 5
}
