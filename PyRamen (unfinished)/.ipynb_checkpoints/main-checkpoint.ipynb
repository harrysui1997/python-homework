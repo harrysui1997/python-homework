{
 "cells": [
  {
   "cell_type": "markdown",
   "id": "a7fc0bda-5904-4729-9451-0a3b62964d6b",
   "metadata": {},
   "source": [
    "## Read the Data"
   ]
  },
  {
   "cell_type": "code",
   "execution_count": 2,
   "id": "18d710e3-750e-4f9b-b1c7-4ccde69e8bcd",
   "metadata": {},
   "outputs": [],
   "source": [
    "# @TODO: Import libraries\n",
    "import csv\n",
    "from pathlib import Path"
   ]
  },
  {
   "cell_type": "code",
   "execution_count": 3,
   "id": "1fc74d00-33ee-4942-a5ba-32ab0013a91b",
   "metadata": {},
   "outputs": [],
   "source": [
    "# @TODO: Set file paths for menu_data.csv and sales_data.csv\n",
    "menu_filepath = Path('menu_data.csv')\n",
    "sales_filepath = Path('sales_data.csv')\n"
   ]
  },
  {
   "cell_type": "code",
   "execution_count": 58,
   "id": "28119f1c-d702-44cc-b0ca-cefa86440a0d",
   "metadata": {},
   "outputs": [],
   "source": [
    "# @TODO: Initialize list objects to hold our menu and sales data\n",
    "menu = []\n",
    "sales = []"
   ]
  },
  {
   "cell_type": "code",
   "execution_count": 49,
   "id": "fabdf3b6-ca84-4548-97dd-3c2afccbe3f9",
   "metadata": {},
   "outputs": [],
   "source": [
    "with open(\"menu_data.csv\",'r') as f:\n",
    "    \n",
    "    csvreader = csv.reader(f,delimiter = ',')\n",
    "    header = next(csvreader)\n",
    "    for row in csvreader:\n",
    "        if len(row) >= 0:\n",
    "            menu = menu+ [row]"
   ]
  },
  {
   "cell_type": "code",
   "execution_count": 50,
   "id": "63759c05-ceca-4565-915f-e28a955b792e",
   "metadata": {},
   "outputs": [],
   "source": [
    "# @TODO: Read in the menu data into the menu list\n",
    "    # A piece of code that will seperate heading from the data\n"
   ]
  },
  {
   "cell_type": "code",
   "execution_count": 59,
   "id": "f6ba63f8-b4e0-4a6b-9994-401c771698e4",
   "metadata": {},
   "outputs": [],
   "source": [
    "# @TODO: Read in the sales data into the sales list\n",
    "with open(\"sales_data.csv\",'r') as file:\n",
    "    \n",
    "    filereader = csv.reader(file,delimiter = ',')\n",
    "    header = next(filereader)\n",
    "    for row in filereader:\n",
    "        if len(row) >= 0:\n",
    "            sales = sales+ [row]"
   ]
  },
  {
   "cell_type": "code",
   "execution_count": 70,
   "id": "77d1d0ca-ae0f-4a13-8fb0-cd5770cd757e",
   "metadata": {},
   "outputs": [
    {
     "ename": "SyntaxError",
     "evalue": "invalid syntax (<ipython-input-70-bbe4aec66b55>, line 2)",
     "output_type": "error",
     "traceback": [
      "\u001b[1;36m  File \u001b[1;32m\"<ipython-input-70-bbe4aec66b55>\"\u001b[1;36m, line \u001b[1;32m2\u001b[0m\n\u001b[1;33m    report = {\"sales_item\":[\"01-count\":0,\u001b[0m\n\u001b[1;37m                                      ^\u001b[0m\n\u001b[1;31mSyntaxError\u001b[0m\u001b[1;31m:\u001b[0m invalid syntax\n"
     ]
    }
   ],
   "source": [
    "# @TODO: Initialize dict object to hold our key-value pairs of items and metrics\n",
    "report = {\"sales_item\":[\"01-count\":0,\n",
    "          \"02-revenue\":0,\n",
    "          \"03-cogs\":0,\n",
    "          \"04-profit\":0,]\n",
    "          \n",
    "         }\n",
    "report.keys()"
   ]
  },
  {
   "cell_type": "code",
   "execution_count": null,
   "id": "9d949980-6c24-49cd-8f30-f38e831e59e1",
   "metadata": {},
   "outputs": [],
   "source": [
    "# Initialize a row counter variable\n",
    "row_count = 0"
   ]
  },
  {
   "cell_type": "code",
   "execution_count": null,
   "id": "f8640520-8ec0-461c-879a-6bb69eba2655",
   "metadata": {},
   "outputs": [],
   "source": [
    "# @TODO: Loop over every row in the sales list object\n",
    "for row in filereader:\n",
    "    \n",
    "\n",
    "\n",
    "\n",
    "    # Line_Item_ID,Date,Credit_Card_Number,Quantity,Menu_Item\n",
    "    # @TODO: Initialize sales data variables\n",
    "\n",
    "\n",
    "    # @TODO:\n",
    "    # If the item value not in the report, add it as a new entry with initialized metrics\n",
    "    # Naming convention allows the keys to be ordered in logical fashion, count, revenue, cost, profit\n",
    "\n"
   ]
  },
  {
   "cell_type": "code",
   "execution_count": null,
   "id": "eb3e862f-7849-41fb-ba94-c488281b25ae",
   "metadata": {},
   "outputs": [],
   "source": [
    "# @TODO: For every row in our sales data, loop over the menu records to determine a match\n"
   ]
  },
  {
   "cell_type": "code",
   "execution_count": 61,
   "id": "0871d72a-e259-4ac7-9352-32582cc3e69d",
   "metadata": {},
   "outputs": [],
   "source": [
    "# Item,Category,Description,Price,Cost\n",
    "# @TODO: Initialize menu data variables\n",
    "Item = []\n",
    "Category = []\n",
    "Description = []\n",
    "Price = []\n",
    "Cost =[]"
   ]
  },
  {
   "cell_type": "code",
   "execution_count": 63,
   "id": "239bf5b1-dac1-47a1-8d4f-8b4ebcf4f03b",
   "metadata": {},
   "outputs": [],
   "source": [
    "# @TODO: Calculate profit of each item in the menu data\n"
   ]
  },
  {
   "cell_type": "code",
   "execution_count": null,
   "id": "3f09d648-119d-46fe-9e9d-36763b0b7159",
   "metadata": {},
   "outputs": [],
   "source": [
    "# @TODO: If the item value in our sales data is equal to the any of the items in the menu, then begin tracking metrics for that item"
   ]
  },
  {
   "cell_type": "code",
   "execution_count": null,
   "id": "0bfa3493-80b4-469d-ab20-9812d611537e",
   "metadata": {},
   "outputs": [],
   "source": [
    "# @TODO: Print out matching menu data\n"
   ]
  },
  {
   "cell_type": "code",
   "execution_count": null,
   "id": "eab9c059-2499-4226-a22b-7f932ee35958",
   "metadata": {},
   "outputs": [],
   "source": [
    "# @TODO: Cumulatively add up the metrics for each item key"
   ]
  },
  {
   "cell_type": "code",
   "execution_count": null,
   "id": "c515d21e-1273-40dd-9ce1-4b58a5b755ef",
   "metadata": {},
   "outputs": [],
   "source": [
    " # @TODO: Else, the sales item does not equal any fo the item in the menu data, therefore no match"
   ]
  },
  {
   "cell_type": "code",
   "execution_count": null,
   "id": "1a531c05-45fd-47fd-8976-245bec0aa9f6",
   "metadata": {},
   "outputs": [],
   "source": [
    " # @TODO: Increment the row counter by 1"
   ]
  },
  {
   "cell_type": "code",
   "execution_count": null,
   "id": "006dabd3-2805-4657-a407-ecd8ebe12128",
   "metadata": {},
   "outputs": [],
   "source": [
    "# @TODO: Print total number of records in sales data"
   ]
  },
  {
   "cell_type": "code",
   "execution_count": null,
   "id": "e43b0031-e287-4ac4-b0a8-d3f2b2514f85",
   "metadata": {},
   "outputs": [],
   "source": [
    "# @TODO: Write out report to a text file (won't appear on the command line output)"
   ]
  }
 ],
 "metadata": {
  "kernelspec": {
   "display_name": "Python 3",
   "language": "python",
   "name": "python3"
  },
  "language_info": {
   "codemirror_mode": {
    "name": "ipython",
    "version": 3
   },
   "file_extension": ".py",
   "mimetype": "text/x-python",
   "name": "python",
   "nbconvert_exporter": "python",
   "pygments_lexer": "ipython3",
   "version": "3.8.8"
  }
 },
 "nbformat": 4,
 "nbformat_minor": 5
}
